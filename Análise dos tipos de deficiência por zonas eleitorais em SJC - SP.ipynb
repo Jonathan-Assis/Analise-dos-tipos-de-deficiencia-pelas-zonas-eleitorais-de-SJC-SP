{
 "cells": [
  {
   "cell_type": "markdown",
   "metadata": {},
   "source": [
    "# Análise dos tipos de deficiência por zonas eleitorais em SJC - SP\n",
    "* Análise de Dados Públicos\n",
    "\n",
    "Base de dados utilizadas: https://www.tse.jus.br/eleicoes/estatisticas/repositorio-de-dados-eleitorais-1\n"
   ]
  },
  {
   "cell_type": "markdown",
   "metadata": {},
   "source": [
    "* Importando as bibliotecas pandas e matplotlib para utilização em gráficos"
   ]
  },
  {
   "cell_type": "code",
   "execution_count": 34,
   "metadata": {},
   "outputs": [],
   "source": [
    "import pandas as pd\n",
    "import matplotlib.pyplot as plt\n",
    "low_memory=False\n",
    "plt.style.use('seaborn-colorblind')\n",
    "%matplotlib inline\n",
    "pd.options.display.max_columns = 80\n",
    "pd.options.display.max_rows = 90\n",
    "plt.rcParams['figure.figsize'] = (8,5)"
   ]
  },
  {
   "cell_type": "code",
   "execution_count": 35,
   "metadata": {},
   "outputs": [],
   "source": [
    "#Definido 'df' como variável do arquivo csv.\n",
    "arq = 'perfil_eleitor_deficiencia_2020_SP.csv'\n",
    "df = pd.read_csv(arq, encoding='latin 1', delimiter=';')"
   ]
  },
  {
   "cell_type": "code",
   "execution_count": 36,
   "metadata": {},
   "outputs": [],
   "source": [
    "#Definindo o mucicípio do arquivo csv para ser analisado.\n",
    "dft_sjc = df.query('NM_MUNICIPIO ==\"SÃO JOSÉ DOS CAMPOS\"')"
   ]
  },
  {
   "cell_type": "code",
   "execution_count": 37,
   "metadata": {},
   "outputs": [
    {
     "name": "stdout",
     "output_type": "stream",
     "text": [
      "<class 'pandas.core.frame.DataFrame'>\n",
      "Int64Index: 5784 entries, 50 to 444068\n",
      "Data columns (total 22 columns):\n",
      " #   Column                Non-Null Count  Dtype \n",
      "---  ------                --------------  ----- \n",
      " 0   DT_GERACAO            5784 non-null   object\n",
      " 1   HH_GERACAO            5784 non-null   object\n",
      " 2   ANO_ELEICAO           5784 non-null   int64 \n",
      " 3   SQ_ELEITOR            5784 non-null   int64 \n",
      " 4   SG_UF                 5784 non-null   object\n",
      " 5   CD_MUNICIPIO          5784 non-null   int64 \n",
      " 6   NM_MUNICIPIO          5784 non-null   object\n",
      " 7   CD_MUN_SIT_BIOMETRIA  5784 non-null   int64 \n",
      " 8   DS_MUN_SIT_BIOMETRIA  5784 non-null   object\n",
      " 9   NR_ZONA               5784 non-null   int64 \n",
      " 10  NR_SECAO              5784 non-null   int64 \n",
      " 11  CD_GENERO             5784 non-null   int64 \n",
      " 12  DS_GENERO             5784 non-null   object\n",
      " 13  CD_ESTADO_CIVIL       5784 non-null   int64 \n",
      " 14  DS_ESTADO_CIVIL       5784 non-null   object\n",
      " 15  CD_FAIXA_ETARIA       5784 non-null   int64 \n",
      " 16  DS_FAIXA_ETARIA       5784 non-null   object\n",
      " 17  CD_GRAU_ESCOLARIDADE  5784 non-null   int64 \n",
      " 18  DS_GRAU_ESCOLARIDADE  5784 non-null   object\n",
      " 19  ST_ELEITOR_BIOMETRIA  5784 non-null   object\n",
      " 20  CD_TIPO_DEFICIENCIA   5784 non-null   int64 \n",
      " 21  DS_TIPO_DEFICIENCIA   5784 non-null   object\n",
      "dtypes: int64(11), object(11)\n",
      "memory usage: 1.0+ MB\n"
     ]
    }
   ],
   "source": [
    "#Informação sobre o arquivo csv após estabelecer apenas o municipio de São José dos Campos.\n",
    "dft_sjc.info()"
   ]
  },
  {
   "cell_type": "code",
   "execution_count": 38,
   "metadata": {},
   "outputs": [
    {
     "data": {
      "text/html": [
       "<div>\n",
       "<style scoped>\n",
       "    .dataframe tbody tr th:only-of-type {\n",
       "        vertical-align: middle;\n",
       "    }\n",
       "\n",
       "    .dataframe tbody tr th {\n",
       "        vertical-align: top;\n",
       "    }\n",
       "\n",
       "    .dataframe thead th {\n",
       "        text-align: right;\n",
       "    }\n",
       "</style>\n",
       "<table border=\"1\" class=\"dataframe\">\n",
       "  <thead>\n",
       "    <tr style=\"text-align: right;\">\n",
       "      <th></th>\n",
       "      <th>DT_GERACAO</th>\n",
       "      <th>HH_GERACAO</th>\n",
       "      <th>ANO_ELEICAO</th>\n",
       "      <th>SQ_ELEITOR</th>\n",
       "      <th>SG_UF</th>\n",
       "      <th>CD_MUNICIPIO</th>\n",
       "      <th>NM_MUNICIPIO</th>\n",
       "      <th>CD_MUN_SIT_BIOMETRIA</th>\n",
       "      <th>DS_MUN_SIT_BIOMETRIA</th>\n",
       "      <th>NR_ZONA</th>\n",
       "      <th>NR_SECAO</th>\n",
       "      <th>CD_GENERO</th>\n",
       "      <th>DS_GENERO</th>\n",
       "      <th>CD_ESTADO_CIVIL</th>\n",
       "      <th>DS_ESTADO_CIVIL</th>\n",
       "      <th>CD_FAIXA_ETARIA</th>\n",
       "      <th>DS_FAIXA_ETARIA</th>\n",
       "      <th>CD_GRAU_ESCOLARIDADE</th>\n",
       "      <th>DS_GRAU_ESCOLARIDADE</th>\n",
       "      <th>ST_ELEITOR_BIOMETRIA</th>\n",
       "      <th>CD_TIPO_DEFICIENCIA</th>\n",
       "      <th>DS_TIPO_DEFICIENCIA</th>\n",
       "    </tr>\n",
       "  </thead>\n",
       "  <tbody>\n",
       "    <tr>\n",
       "      <th>396847</th>\n",
       "      <td>01/08/2020</td>\n",
       "      <td>13:21:54</td>\n",
       "      <td>2020</td>\n",
       "      <td>359090387</td>\n",
       "      <td>SP</td>\n",
       "      <td>70998</td>\n",
       "      <td>SÃO JOSÉ DOS CAMPOS</td>\n",
       "      <td>0</td>\n",
       "      <td>Sem biometria</td>\n",
       "      <td>411</td>\n",
       "      <td>242</td>\n",
       "      <td>2</td>\n",
       "      <td>MASCULINO</td>\n",
       "      <td>3</td>\n",
       "      <td>CASADO</td>\n",
       "      <td>5054</td>\n",
       "      <td>50 a 54 anos</td>\n",
       "      <td>6</td>\n",
       "      <td>ENSINO MÉDIO COMPLETO</td>\n",
       "      <td>S</td>\n",
       "      <td>3</td>\n",
       "      <td>OUTROS</td>\n",
       "    </tr>\n",
       "    <tr>\n",
       "      <th>152155</th>\n",
       "      <td>01/08/2020</td>\n",
       "      <td>13:21:54</td>\n",
       "      <td>2020</td>\n",
       "      <td>408753333</td>\n",
       "      <td>SP</td>\n",
       "      <td>70998</td>\n",
       "      <td>SÃO JOSÉ DOS CAMPOS</td>\n",
       "      <td>0</td>\n",
       "      <td>Sem biometria</td>\n",
       "      <td>127</td>\n",
       "      <td>527</td>\n",
       "      <td>2</td>\n",
       "      <td>MASCULINO</td>\n",
       "      <td>9</td>\n",
       "      <td>DIVORCIADO</td>\n",
       "      <td>6064</td>\n",
       "      <td>60 a 64 anos</td>\n",
       "      <td>6</td>\n",
       "      <td>ENSINO MÉDIO COMPLETO</td>\n",
       "      <td>S</td>\n",
       "      <td>2</td>\n",
       "      <td>DEFICIÊNCIA DE LOCOMOÇÃO</td>\n",
       "    </tr>\n",
       "    <tr>\n",
       "      <th>234493</th>\n",
       "      <td>01/08/2020</td>\n",
       "      <td>13:21:54</td>\n",
       "      <td>2020</td>\n",
       "      <td>389652330</td>\n",
       "      <td>SP</td>\n",
       "      <td>70998</td>\n",
       "      <td>SÃO JOSÉ DOS CAMPOS</td>\n",
       "      <td>0</td>\n",
       "      <td>Sem biometria</td>\n",
       "      <td>412</td>\n",
       "      <td>210</td>\n",
       "      <td>4</td>\n",
       "      <td>FEMININO</td>\n",
       "      <td>1</td>\n",
       "      <td>SOLTEIRO</td>\n",
       "      <td>6569</td>\n",
       "      <td>65 a 69 anos</td>\n",
       "      <td>3</td>\n",
       "      <td>ENSINO FUNDAMENTAL INCOMPLETO</td>\n",
       "      <td>S</td>\n",
       "      <td>2</td>\n",
       "      <td>DEFICIÊNCIA DE LOCOMOÇÃO</td>\n",
       "    </tr>\n",
       "    <tr>\n",
       "      <th>400074</th>\n",
       "      <td>01/08/2020</td>\n",
       "      <td>13:21:54</td>\n",
       "      <td>2020</td>\n",
       "      <td>382884379</td>\n",
       "      <td>SP</td>\n",
       "      <td>70998</td>\n",
       "      <td>SÃO JOSÉ DOS CAMPOS</td>\n",
       "      <td>0</td>\n",
       "      <td>Sem biometria</td>\n",
       "      <td>282</td>\n",
       "      <td>154</td>\n",
       "      <td>4</td>\n",
       "      <td>FEMININO</td>\n",
       "      <td>3</td>\n",
       "      <td>CASADO</td>\n",
       "      <td>6064</td>\n",
       "      <td>60 a 64 anos</td>\n",
       "      <td>3</td>\n",
       "      <td>ENSINO FUNDAMENTAL INCOMPLETO</td>\n",
       "      <td>S</td>\n",
       "      <td>2</td>\n",
       "      <td>DEFICIÊNCIA DE LOCOMOÇÃO</td>\n",
       "    </tr>\n",
       "    <tr>\n",
       "      <th>339865</th>\n",
       "      <td>01/08/2020</td>\n",
       "      <td>13:21:54</td>\n",
       "      <td>2020</td>\n",
       "      <td>418045261</td>\n",
       "      <td>SP</td>\n",
       "      <td>70998</td>\n",
       "      <td>SÃO JOSÉ DOS CAMPOS</td>\n",
       "      <td>0</td>\n",
       "      <td>Sem biometria</td>\n",
       "      <td>412</td>\n",
       "      <td>65</td>\n",
       "      <td>4</td>\n",
       "      <td>FEMININO</td>\n",
       "      <td>5</td>\n",
       "      <td>VIÚVO</td>\n",
       "      <td>6064</td>\n",
       "      <td>60 a 64 anos</td>\n",
       "      <td>3</td>\n",
       "      <td>ENSINO FUNDAMENTAL INCOMPLETO</td>\n",
       "      <td>S</td>\n",
       "      <td>2</td>\n",
       "      <td>DEFICIÊNCIA DE LOCOMOÇÃO</td>\n",
       "    </tr>\n",
       "    <tr>\n",
       "      <th>273250</th>\n",
       "      <td>01/08/2020</td>\n",
       "      <td>13:21:54</td>\n",
       "      <td>2020</td>\n",
       "      <td>320260510</td>\n",
       "      <td>SP</td>\n",
       "      <td>70998</td>\n",
       "      <td>SÃO JOSÉ DOS CAMPOS</td>\n",
       "      <td>0</td>\n",
       "      <td>Sem biometria</td>\n",
       "      <td>412</td>\n",
       "      <td>426</td>\n",
       "      <td>4</td>\n",
       "      <td>FEMININO</td>\n",
       "      <td>3</td>\n",
       "      <td>CASADO</td>\n",
       "      <td>7579</td>\n",
       "      <td>75 a 79 anos</td>\n",
       "      <td>1</td>\n",
       "      <td>ANALFABETO</td>\n",
       "      <td>S</td>\n",
       "      <td>3</td>\n",
       "      <td>OUTROS</td>\n",
       "    </tr>\n",
       "    <tr>\n",
       "      <th>269440</th>\n",
       "      <td>01/08/2020</td>\n",
       "      <td>13:21:54</td>\n",
       "      <td>2020</td>\n",
       "      <td>378370547</td>\n",
       "      <td>SP</td>\n",
       "      <td>70998</td>\n",
       "      <td>SÃO JOSÉ DOS CAMPOS</td>\n",
       "      <td>0</td>\n",
       "      <td>Sem biometria</td>\n",
       "      <td>127</td>\n",
       "      <td>540</td>\n",
       "      <td>2</td>\n",
       "      <td>MASCULINO</td>\n",
       "      <td>3</td>\n",
       "      <td>CASADO</td>\n",
       "      <td>8084</td>\n",
       "      <td>80 a 84 anos</td>\n",
       "      <td>8</td>\n",
       "      <td>SUPERIOR COMPLETO</td>\n",
       "      <td>S</td>\n",
       "      <td>3</td>\n",
       "      <td>OUTROS</td>\n",
       "    </tr>\n",
       "    <tr>\n",
       "      <th>121889</th>\n",
       "      <td>01/08/2020</td>\n",
       "      <td>13:21:54</td>\n",
       "      <td>2020</td>\n",
       "      <td>352319861</td>\n",
       "      <td>SP</td>\n",
       "      <td>70998</td>\n",
       "      <td>SÃO JOSÉ DOS CAMPOS</td>\n",
       "      <td>0</td>\n",
       "      <td>Sem biometria</td>\n",
       "      <td>127</td>\n",
       "      <td>540</td>\n",
       "      <td>4</td>\n",
       "      <td>FEMININO</td>\n",
       "      <td>9</td>\n",
       "      <td>DIVORCIADO</td>\n",
       "      <td>7074</td>\n",
       "      <td>70 a 74 anos</td>\n",
       "      <td>4</td>\n",
       "      <td>ENSINO FUNDAMENTAL COMPLETO</td>\n",
       "      <td>S</td>\n",
       "      <td>3</td>\n",
       "      <td>OUTROS</td>\n",
       "    </tr>\n",
       "    <tr>\n",
       "      <th>228707</th>\n",
       "      <td>01/08/2020</td>\n",
       "      <td>13:21:54</td>\n",
       "      <td>2020</td>\n",
       "      <td>388067842</td>\n",
       "      <td>SP</td>\n",
       "      <td>70998</td>\n",
       "      <td>SÃO JOSÉ DOS CAMPOS</td>\n",
       "      <td>0</td>\n",
       "      <td>Sem biometria</td>\n",
       "      <td>282</td>\n",
       "      <td>52</td>\n",
       "      <td>2</td>\n",
       "      <td>MASCULINO</td>\n",
       "      <td>1</td>\n",
       "      <td>SOLTEIRO</td>\n",
       "      <td>6569</td>\n",
       "      <td>65 a 69 anos</td>\n",
       "      <td>3</td>\n",
       "      <td>ENSINO FUNDAMENTAL INCOMPLETO</td>\n",
       "      <td>S</td>\n",
       "      <td>1</td>\n",
       "      <td>DEFICIÊNCIA VISUAL</td>\n",
       "    </tr>\n",
       "    <tr>\n",
       "      <th>53422</th>\n",
       "      <td>01/08/2020</td>\n",
       "      <td>13:21:54</td>\n",
       "      <td>2020</td>\n",
       "      <td>162543460</td>\n",
       "      <td>SP</td>\n",
       "      <td>70998</td>\n",
       "      <td>SÃO JOSÉ DOS CAMPOS</td>\n",
       "      <td>0</td>\n",
       "      <td>Sem biometria</td>\n",
       "      <td>282</td>\n",
       "      <td>183</td>\n",
       "      <td>2</td>\n",
       "      <td>MASCULINO</td>\n",
       "      <td>1</td>\n",
       "      <td>SOLTEIRO</td>\n",
       "      <td>2529</td>\n",
       "      <td>25 a 29 anos</td>\n",
       "      <td>5</td>\n",
       "      <td>ENSINO MÉDIO INCOMPLETO</td>\n",
       "      <td>N</td>\n",
       "      <td>4</td>\n",
       "      <td>DIFICULDADE PARA O EXERCÍCIO DO VOTO</td>\n",
       "    </tr>\n",
       "  </tbody>\n",
       "</table>\n",
       "</div>"
      ],
      "text/plain": [
       "        DT_GERACAO HH_GERACAO  ANO_ELEICAO  SQ_ELEITOR SG_UF  CD_MUNICIPIO  \\\n",
       "396847  01/08/2020   13:21:54         2020   359090387    SP         70998   \n",
       "152155  01/08/2020   13:21:54         2020   408753333    SP         70998   \n",
       "234493  01/08/2020   13:21:54         2020   389652330    SP         70998   \n",
       "400074  01/08/2020   13:21:54         2020   382884379    SP         70998   \n",
       "339865  01/08/2020   13:21:54         2020   418045261    SP         70998   \n",
       "273250  01/08/2020   13:21:54         2020   320260510    SP         70998   \n",
       "269440  01/08/2020   13:21:54         2020   378370547    SP         70998   \n",
       "121889  01/08/2020   13:21:54         2020   352319861    SP         70998   \n",
       "228707  01/08/2020   13:21:54         2020   388067842    SP         70998   \n",
       "53422   01/08/2020   13:21:54         2020   162543460    SP         70998   \n",
       "\n",
       "               NM_MUNICIPIO  CD_MUN_SIT_BIOMETRIA DS_MUN_SIT_BIOMETRIA  \\\n",
       "396847  SÃO JOSÉ DOS CAMPOS                     0        Sem biometria   \n",
       "152155  SÃO JOSÉ DOS CAMPOS                     0        Sem biometria   \n",
       "234493  SÃO JOSÉ DOS CAMPOS                     0        Sem biometria   \n",
       "400074  SÃO JOSÉ DOS CAMPOS                     0        Sem biometria   \n",
       "339865  SÃO JOSÉ DOS CAMPOS                     0        Sem biometria   \n",
       "273250  SÃO JOSÉ DOS CAMPOS                     0        Sem biometria   \n",
       "269440  SÃO JOSÉ DOS CAMPOS                     0        Sem biometria   \n",
       "121889  SÃO JOSÉ DOS CAMPOS                     0        Sem biometria   \n",
       "228707  SÃO JOSÉ DOS CAMPOS                     0        Sem biometria   \n",
       "53422   SÃO JOSÉ DOS CAMPOS                     0        Sem biometria   \n",
       "\n",
       "        NR_ZONA  NR_SECAO  CD_GENERO  DS_GENERO  CD_ESTADO_CIVIL  \\\n",
       "396847      411       242          2  MASCULINO                3   \n",
       "152155      127       527          2  MASCULINO                9   \n",
       "234493      412       210          4   FEMININO                1   \n",
       "400074      282       154          4   FEMININO                3   \n",
       "339865      412        65          4   FEMININO                5   \n",
       "273250      412       426          4   FEMININO                3   \n",
       "269440      127       540          2  MASCULINO                3   \n",
       "121889      127       540          4   FEMININO                9   \n",
       "228707      282        52          2  MASCULINO                1   \n",
       "53422       282       183          2  MASCULINO                1   \n",
       "\n",
       "       DS_ESTADO_CIVIL  CD_FAIXA_ETARIA                 DS_FAIXA_ETARIA  \\\n",
       "396847          CASADO             5054  50 a 54 anos                     \n",
       "152155      DIVORCIADO             6064  60 a 64 anos                     \n",
       "234493        SOLTEIRO             6569  65 a 69 anos                     \n",
       "400074          CASADO             6064  60 a 64 anos                     \n",
       "339865           VIÚVO             6064  60 a 64 anos                     \n",
       "273250          CASADO             7579  75 a 79 anos                     \n",
       "269440          CASADO             8084  80 a 84 anos                     \n",
       "121889      DIVORCIADO             7074  70 a 74 anos                     \n",
       "228707        SOLTEIRO             6569  65 a 69 anos                     \n",
       "53422         SOLTEIRO             2529  25 a 29 anos                     \n",
       "\n",
       "        CD_GRAU_ESCOLARIDADE           DS_GRAU_ESCOLARIDADE  \\\n",
       "396847                     6          ENSINO MÉDIO COMPLETO   \n",
       "152155                     6          ENSINO MÉDIO COMPLETO   \n",
       "234493                     3  ENSINO FUNDAMENTAL INCOMPLETO   \n",
       "400074                     3  ENSINO FUNDAMENTAL INCOMPLETO   \n",
       "339865                     3  ENSINO FUNDAMENTAL INCOMPLETO   \n",
       "273250                     1                     ANALFABETO   \n",
       "269440                     8              SUPERIOR COMPLETO   \n",
       "121889                     4    ENSINO FUNDAMENTAL COMPLETO   \n",
       "228707                     3  ENSINO FUNDAMENTAL INCOMPLETO   \n",
       "53422                      5        ENSINO MÉDIO INCOMPLETO   \n",
       "\n",
       "       ST_ELEITOR_BIOMETRIA  CD_TIPO_DEFICIENCIA  \\\n",
       "396847                    S                    3   \n",
       "152155                    S                    2   \n",
       "234493                    S                    2   \n",
       "400074                    S                    2   \n",
       "339865                    S                    2   \n",
       "273250                    S                    3   \n",
       "269440                    S                    3   \n",
       "121889                    S                    3   \n",
       "228707                    S                    1   \n",
       "53422                     N                    4   \n",
       "\n",
       "                         DS_TIPO_DEFICIENCIA  \n",
       "396847                                OUTROS  \n",
       "152155              DEFICIÊNCIA DE LOCOMOÇÃO  \n",
       "234493              DEFICIÊNCIA DE LOCOMOÇÃO  \n",
       "400074              DEFICIÊNCIA DE LOCOMOÇÃO  \n",
       "339865              DEFICIÊNCIA DE LOCOMOÇÃO  \n",
       "273250                                OUTROS  \n",
       "269440                                OUTROS  \n",
       "121889                                OUTROS  \n",
       "228707                    DEFICIÊNCIA VISUAL  \n",
       "53422   DIFICULDADE PARA O EXERCÍCIO DO VOTO  "
      ]
     },
     "execution_count": 38,
     "metadata": {},
     "output_type": "execute_result"
    }
   ],
   "source": [
    "dft_sjc.sample(10)"
   ]
  },
  {
   "cell_type": "markdown",
   "metadata": {},
   "source": [
    "# Zonas eleitorais de São José dos Campos"
   ]
  },
  {
   "cell_type": "code",
   "execution_count": 39,
   "metadata": {},
   "outputs": [
    {
     "data": {
      "text/plain": [
       "<AxesSubplot:title={'center':'Zonas eleitorais de São José dos Campos'}, ylabel='NR_ZONA'>"
      ]
     },
     "execution_count": 39,
     "metadata": {},
     "output_type": "execute_result"
    },
    {
     "data": {
      "image/png": "[encoded data removed]",
      "text/plain": [
       "<Figure size 576x360 with 1 Axes>"
      ]
     },
     "metadata": {
      "needs_background": "light"
     },
     "output_type": "display_data"
    }
   ],
   "source": [
    "#Apresentação das zonas eleitorais do municipio de São José dos Campos.\n",
    "dft_sjc.groupby(\"NR_ZONA\").size().sort_values().tail(4).plot(kind='barh', title='Zonas eleitorais de São José dos Campos')"
   ]
  },
  {
   "cell_type": "code",
   "execution_count": 40,
   "metadata": {},
   "outputs": [
    {
     "data": {
      "text/plain": [
       "<AxesSubplot:title={'center':'Tipos de deficiência mais apresentadas nas zonas eleitorais de SJC'}, ylabel='DS_TIPO_DEFICIENCIA'>"
      ]
     },
     "execution_count": 40,
     "metadata": {},
     "output_type": "execute_result"
    },
    {
     "data": {
      "image/png": "[encoded data removed]",
      "text/plain": [
       "<Figure size 576x360 with 1 Axes>"
      ]
     },
     "metadata": {
      "needs_background": "light"
     },
     "output_type": "display_data"
    }
   ],
   "source": [
    "#Apresentação dos tipos de deficiência mais apresentados no municipio de São José dos Campos.\n",
    "dft_sjc.groupby(\"DS_TIPO_DEFICIENCIA\").size().sort_values().plot(kind='barh', title='Tipos de deficiência mais apresentadas nas zonas eleitorais de SJC')"
   ]
  },
  {
   "cell_type": "code",
   "execution_count": 41,
   "metadata": {},
   "outputs": [
    {
     "data": {
      "text/plain": [
       "<AxesSubplot:title={'center':'Generos mais apresentados nas zonas eleitorais de SJC'}, ylabel='DS_GENERO'>"
      ]
     },
     "execution_count": 41,
     "metadata": {},
     "output_type": "execute_result"
    },
    {
     "data": {
      "image/png": "[encoded data removed]",
      "text/plain": [
       "<Figure size 576x360 with 1 Axes>"
      ]
     },
     "metadata": {
      "needs_background": "light"
     },
     "output_type": "display_data"
    }
   ],
   "source": [
    "#Apresentação do gênero das pessoas no municipio de São José dos Campos.\n",
    "dft_sjc.groupby(\"DS_GENERO\").size().sort_values().plot(kind='barh', title='Generos mais apresentados nas zonas eleitorais de SJC')"
   ]
  },
  {
   "cell_type": "markdown",
   "metadata": {},
   "source": [
    "# Apresentação por zona eleitoral"
   ]
  },
  {
   "cell_type": "code",
   "execution_count": 42,
   "metadata": {},
   "outputs": [
    {
     "data": {
      "text/plain": [
       "<AxesSubplot:title={'center':'Tipos de deficiência mais apresentados na zona eleitoral 412'}>"
      ]
     },
     "execution_count": 42,
     "metadata": {},
     "output_type": "execute_result"
    },
    {
     "data": {
      "image/png": "[encoded data removed]",
      "text/plain": [
       "<Figure size 576x360 with 1 Axes>"
      ]
     },
     "metadata": {
      "needs_background": "light"
     },
     "output_type": "display_data"
    }
   ],
   "source": [
    "#Estabelecendo como deve ser filtrado por zona eleitoral o tipo de deficiência.\n",
    "dft_sjc.query(\"NR_ZONA == '412'\")['DS_TIPO_DEFICIENCIA'].value_counts().sort_values().plot(kind='barh', title=\"Tipos de deficiência mais apresentados na zona eleitoral 412\")"
   ]
  },
  {
   "cell_type": "code",
   "execution_count": 43,
   "metadata": {},
   "outputs": [
    {
     "data": {
      "text/plain": [
       "<AxesSubplot:title={'center':'Tipos de deficiência mais apresentados na zona eleitoral 411'}>"
      ]
     },
     "execution_count": 43,
     "metadata": {},
     "output_type": "execute_result"
    },
    {
     "data": {
      "image/png": "[encoded data removed]",
      "text/plain": [
       "<Figure size 576x360 with 1 Axes>"
      ]
     },
     "metadata": {
      "needs_background": "light"
     },
     "output_type": "display_data"
    }
   ],
   "source": [
    "dft_sjc.query(\"NR_ZONA == '411'\")['DS_TIPO_DEFICIENCIA'].value_counts().sort_values().plot(kind='barh', title=\"Tipos de deficiência mais apresentados na zona eleitoral 411\")"
   ]
  },
  {
   "cell_type": "code",
   "execution_count": 44,
   "metadata": {},
   "outputs": [
    {
     "data": {
      "text/plain": [
       "<AxesSubplot:title={'center':'Tipos de deficiência mais apresentados na zona 127'}>"
      ]
     },
     "execution_count": 44,
     "metadata": {},
     "output_type": "execute_result"
    },
    {
     "data": {
      "image/png": "[encoded data removed]",
      "text/plain": [
       "<Figure size 576x360 with 1 Axes>"
      ]
     },
     "metadata": {
      "needs_background": "light"
     },
     "output_type": "display_data"
    }
   ],
   "source": [
    "dft_sjc.query(\"NR_ZONA == '127'\")['DS_TIPO_DEFICIENCIA'].value_counts().sort_values().plot(kind='barh', title=\"Tipos de deficiência mais apresentados na zona 127\")"
   ]
  },
  {
   "cell_type": "code",
   "execution_count": 45,
   "metadata": {},
   "outputs": [
    {
     "data": {
      "text/plain": [
       "<AxesSubplot:title={'center':'Tipos de deficiência mais apresentados na zona eleitoral 282'}>"
      ]
     },
     "execution_count": 45,
     "metadata": {},
     "output_type": "execute_result"
    },
    {
     "data": {
      "image/png": "[encoded data removed]",
      "text/plain": [
       "<Figure size 576x360 with 1 Axes>"
      ]
     },
     "metadata": {
      "needs_background": "light"
     },
     "output_type": "display_data"
    }
   ],
   "source": [
    "dft_sjc.query(\"NR_ZONA == '282'\")['DS_TIPO_DEFICIENCIA'].value_counts().sort_values().plot(kind='barh', title=\"Tipos de deficiência mais apresentados na zona eleitoral 282\")"
   ]
  },
  {
   "cell_type": "markdown",
   "metadata": {},
   "source": [
    "# Tipos de deficiência"
   ]
  },
  {
   "cell_type": "code",
   "execution_count": 46,
   "metadata": {},
   "outputs": [
    {
     "data": {
      "image/png": "[encoded data removed]",
      "text/plain": [
       "<Figure size 576x360 with 1 Axes>"
      ]
     },
     "metadata": {
      "needs_background": "light"
     },
     "output_type": "display_data"
    }
   ],
   "source": [
    "#Estabelecendo as zonas que mais apresentão pessoas com deficiência de locomoção.\n",
    "dft_t_sjc = dft_sjc.query(\"DS_TIPO_DEFICIENCIA =='DEFICIÊNCIA DE LOCOMOÇÃO'\")['NR_ZONA'].value_counts().sort_values().plot(kind='barh', title=\"Número de deficientes por locomoção nas zonas eleitorais de SJC-SP\")"
   ]
  },
  {
   "cell_type": "code",
   "execution_count": 47,
   "metadata": {},
   "outputs": [
    {
     "data": {
      "text/plain": [
       "<AxesSubplot:title={'center':'Número de deficientes visuais nas zonas eleitorais de SJC-SP'}>"
      ]
     },
     "execution_count": 47,
     "metadata": {},
     "output_type": "execute_result"
    },
    {
     "data": {
      "image/png": "[encoded data removed]",
      "text/plain": [
       "<Figure size 576x360 with 1 Axes>"
      ]
     },
     "metadata": {
      "needs_background": "light"
     },
     "output_type": "display_data"
    }
   ],
   "source": [
    "#Estabelecendo as zonas que mais apresentão pessoas com deficiência visual.\n",
    "dft_sjc.query(\"DS_TIPO_DEFICIENCIA =='DEFICIÊNCIA VISUAL'\")['NR_ZONA'].value_counts().sort_values().plot(kind='barh', title=\"Número de deficientes visuais nas zonas eleitorais de SJC-SP\")"
   ]
  },
  {
   "cell_type": "code",
   "execution_count": 48,
   "metadata": {},
   "outputs": [
    {
     "data": {
      "text/plain": [
       "<AxesSubplot:title={'center':'Número de deficientes auditivos nas zonas eleitorais de SJC-SP'}>"
      ]
     },
     "execution_count": 48,
     "metadata": {},
     "output_type": "execute_result"
    },
    {
     "data": {
      "image/png": "[encoded data removed]",
      "text/plain": [
       "<Figure size 576x360 with 1 Axes>"
      ]
     },
     "metadata": {
      "needs_background": "light"
     },
     "output_type": "display_data"
    }
   ],
   "source": [
    "#Estabelecendo as zonas que mais apresentão pessoas com deficiência auditiva.\n",
    "dft_sjc.query(\"DS_TIPO_DEFICIENCIA =='DEFICIÊNCIA AUDITIVA'\")['NR_ZONA'].value_counts().sort_values().plot(kind='barh', title=\"Número de deficientes auditivos nas zonas eleitorais de SJC-SP\")"
   ]
  },
  {
   "cell_type": "code",
   "execution_count": null,
   "metadata": {},
   "outputs": [],
   "source": []
  }
 ],
 "metadata": {
  "kernelspec": {
   "display_name": "Python 3",
   "language": "python",
   "name": "python3"
  },
  "language_info": {
   "codemirror_mode": {
    "name": "ipython",
    "version": 3
   },
   "file_extension": ".py",
   "mimetype": "text/x-python",
   "name": "python",
   "nbconvert_exporter": "python",
   "pygments_lexer": "ipython3",
   "version": "3.7.9"
  }
 },
 "nbformat": 4,
 "nbformat_minor": 4
}
