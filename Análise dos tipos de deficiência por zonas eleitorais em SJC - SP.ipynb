{
 "cells": [
  {
   "cell_type": "markdown",
   "metadata": {},
   "source": [
    "# Análise dos tipos de deficiência por zonas eleitorais em SJC - SP\n",
    "* Análise de Dados Públicos\n",
    "\n",
    "Base de dados utilizadas: https://www.tse.jus.br/eleicoes/estatisticas/repositorio-de-dados-eleitorais-1"
   ]
  },
  {
   "cell_type": "markdown",
   "metadata": {},
   "source": [
    "* Importando as bibliotecas pandas e matplotlib para utilização em gráficos"
   ]
  },
  {
   "cell_type": "code",
   "execution_count": 2,
   "metadata": {},
   "outputs": [],
   "source": [
    "import pandas as pd\n",
    "import matplotlib.pyplot as plt\n",
    "low_memory=False\n",
    "plt.style.use('seaborn')\n",
    "%matplotlib inline\n",
    "pd.options.display.max_columns = 80\n",
    "pd.options.display.max_rows = 90"
   ]
  },
  {
   "cell_type": "code",
   "execution_count": 3,
   "metadata": {},
   "outputs": [],
   "source": [
    "#Definido 'df' como variável do arquivo csv\n",
    "arq = 'perfil_eleitor_deficiencia_2020_SP.csv'\n",
    "df = pd.read_csv(arq, encoding='latin 1', delimiter=';')"
   ]
  },
  {
   "cell_type": "code",
   "execution_count": 4,
   "metadata": {},
   "outputs": [],
   "source": [
    "#definindo o mucicípio do arquivo csv para ser analisado\n",
    "dft_sjc = df.query('NM_MUNICIPIO ==\"SÃO JOSÉ DOS CAMPOS\"')"
   ]
  },
  {
   "cell_type": "code",
   "execution_count": 5,
   "metadata": {},
   "outputs": [
    {
     "name": "stdout",
     "output_type": "stream",
     "text": [
      "<class 'pandas.core.frame.DataFrame'>\n",
      "Int64Index: 5784 entries, 50 to 444068\n",
      "Data columns (total 22 columns):\n",
      " #   Column                Non-Null Count  Dtype \n",
      "---  ------                --------------  ----- \n",
      " 0   DT_GERACAO            5784 non-null   object\n",
      " 1   HH_GERACAO            5784 non-null   object\n",
      " 2   ANO_ELEICAO           5784 non-null   int64 \n",
      " 3   SQ_ELEITOR            5784 non-null   int64 \n",
      " 4   SG_UF                 5784 non-null   object\n",
      " 5   CD_MUNICIPIO          5784 non-null   int64 \n",
      " 6   NM_MUNICIPIO          5784 non-null   object\n",
      " 7   CD_MUN_SIT_BIOMETRIA  5784 non-null   int64 \n",
      " 8   DS_MUN_SIT_BIOMETRIA  5784 non-null   object\n",
      " 9   NR_ZONA               5784 non-null   int64 \n",
      " 10  NR_SECAO              5784 non-null   int64 \n",
      " 11  CD_GENERO             5784 non-null   int64 \n",
      " 12  DS_GENERO             5784 non-null   object\n",
      " 13  CD_ESTADO_CIVIL       5784 non-null   int64 \n",
      " 14  DS_ESTADO_CIVIL       5784 non-null   object\n",
      " 15  CD_FAIXA_ETARIA       5784 non-null   int64 \n",
      " 16  DS_FAIXA_ETARIA       5784 non-null   object\n",
      " 17  CD_GRAU_ESCOLARIDADE  5784 non-null   int64 \n",
      " 18  DS_GRAU_ESCOLARIDADE  5784 non-null   object\n",
      " 19  ST_ELEITOR_BIOMETRIA  5784 non-null   object\n",
      " 20  CD_TIPO_DEFICIENCIA   5784 non-null   int64 \n",
      " 21  DS_TIPO_DEFICIENCIA   5784 non-null   object\n",
      "dtypes: int64(11), object(11)\n",
      "memory usage: 1.0+ MB\n"
     ]
    }
   ],
   "source": [
    "dft_sjc.info()"
   ]
  },
  {
   "cell_type": "code",
   "execution_count": 6,
   "metadata": {},
   "outputs": [
    {
     "data": {
      "text/html": [
       "<div>\n",
       "<style scoped>\n",
       "    .dataframe tbody tr th:only-of-type {\n",
       "        vertical-align: middle;\n",
       "    }\n",
       "\n",
       "    .dataframe tbody tr th {\n",
       "        vertical-align: top;\n",
       "    }\n",
       "\n",
       "    .dataframe thead th {\n",
       "        text-align: right;\n",
       "    }\n",
       "</style>\n",
       "<table border=\"1\" class=\"dataframe\">\n",
       "  <thead>\n",
       "    <tr style=\"text-align: right;\">\n",
       "      <th></th>\n",
       "      <th>DT_GERACAO</th>\n",
       "      <th>HH_GERACAO</th>\n",
       "      <th>ANO_ELEICAO</th>\n",
       "      <th>SQ_ELEITOR</th>\n",
       "      <th>SG_UF</th>\n",
       "      <th>CD_MUNICIPIO</th>\n",
       "      <th>NM_MUNICIPIO</th>\n",
       "      <th>CD_MUN_SIT_BIOMETRIA</th>\n",
       "      <th>DS_MUN_SIT_BIOMETRIA</th>\n",
       "      <th>NR_ZONA</th>\n",
       "      <th>NR_SECAO</th>\n",
       "      <th>CD_GENERO</th>\n",
       "      <th>DS_GENERO</th>\n",
       "      <th>CD_ESTADO_CIVIL</th>\n",
       "      <th>DS_ESTADO_CIVIL</th>\n",
       "      <th>CD_FAIXA_ETARIA</th>\n",
       "      <th>DS_FAIXA_ETARIA</th>\n",
       "      <th>CD_GRAU_ESCOLARIDADE</th>\n",
       "      <th>DS_GRAU_ESCOLARIDADE</th>\n",
       "      <th>ST_ELEITOR_BIOMETRIA</th>\n",
       "      <th>CD_TIPO_DEFICIENCIA</th>\n",
       "      <th>DS_TIPO_DEFICIENCIA</th>\n",
       "    </tr>\n",
       "  </thead>\n",
       "  <tbody>\n",
       "    <tr>\n",
       "      <th>322015</th>\n",
       "      <td>01/08/2020</td>\n",
       "      <td>13:21:54</td>\n",
       "      <td>2020</td>\n",
       "      <td>367215429</td>\n",
       "      <td>SP</td>\n",
       "      <td>70998</td>\n",
       "      <td>SÃO JOSÉ DOS CAMPOS</td>\n",
       "      <td>0</td>\n",
       "      <td>Sem biometria</td>\n",
       "      <td>411</td>\n",
       "      <td>197</td>\n",
       "      <td>2</td>\n",
       "      <td>MASCULINO</td>\n",
       "      <td>1</td>\n",
       "      <td>SOLTEIRO</td>\n",
       "      <td>2000</td>\n",
       "      <td>20 anos</td>\n",
       "      <td>6</td>\n",
       "      <td>ENSINO MÉDIO COMPLETO</td>\n",
       "      <td>S</td>\n",
       "      <td>2</td>\n",
       "      <td>DEFICIÊNCIA DE LOCOMOÇÃO</td>\n",
       "    </tr>\n",
       "    <tr>\n",
       "      <th>384786</th>\n",
       "      <td>01/08/2020</td>\n",
       "      <td>13:21:54</td>\n",
       "      <td>2020</td>\n",
       "      <td>355074586</td>\n",
       "      <td>SP</td>\n",
       "      <td>70998</td>\n",
       "      <td>SÃO JOSÉ DOS CAMPOS</td>\n",
       "      <td>0</td>\n",
       "      <td>Sem biometria</td>\n",
       "      <td>127</td>\n",
       "      <td>590</td>\n",
       "      <td>4</td>\n",
       "      <td>FEMININO</td>\n",
       "      <td>1</td>\n",
       "      <td>SOLTEIRO</td>\n",
       "      <td>2000</td>\n",
       "      <td>20 anos</td>\n",
       "      <td>5</td>\n",
       "      <td>ENSINO MÉDIO INCOMPLETO</td>\n",
       "      <td>S</td>\n",
       "      <td>3</td>\n",
       "      <td>OUTROS</td>\n",
       "    </tr>\n",
       "    <tr>\n",
       "      <th>60216</th>\n",
       "      <td>01/08/2020</td>\n",
       "      <td>13:21:54</td>\n",
       "      <td>2020</td>\n",
       "      <td>10717654</td>\n",
       "      <td>SP</td>\n",
       "      <td>70998</td>\n",
       "      <td>SÃO JOSÉ DOS CAMPOS</td>\n",
       "      <td>0</td>\n",
       "      <td>Sem biometria</td>\n",
       "      <td>127</td>\n",
       "      <td>541</td>\n",
       "      <td>4</td>\n",
       "      <td>FEMININO</td>\n",
       "      <td>3</td>\n",
       "      <td>CASADO</td>\n",
       "      <td>8084</td>\n",
       "      <td>80 a 84 anos</td>\n",
       "      <td>1</td>\n",
       "      <td>ANALFABETO</td>\n",
       "      <td>N</td>\n",
       "      <td>2</td>\n",
       "      <td>DEFICIÊNCIA DE LOCOMOÇÃO</td>\n",
       "    </tr>\n",
       "    <tr>\n",
       "      <th>439764</th>\n",
       "      <td>01/08/2020</td>\n",
       "      <td>13:21:54</td>\n",
       "      <td>2020</td>\n",
       "      <td>315864481</td>\n",
       "      <td>SP</td>\n",
       "      <td>70998</td>\n",
       "      <td>SÃO JOSÉ DOS CAMPOS</td>\n",
       "      <td>0</td>\n",
       "      <td>Sem biometria</td>\n",
       "      <td>282</td>\n",
       "      <td>185</td>\n",
       "      <td>2</td>\n",
       "      <td>MASCULINO</td>\n",
       "      <td>1</td>\n",
       "      <td>SOLTEIRO</td>\n",
       "      <td>6569</td>\n",
       "      <td>65 a 69 anos</td>\n",
       "      <td>3</td>\n",
       "      <td>ENSINO FUNDAMENTAL INCOMPLETO</td>\n",
       "      <td>S</td>\n",
       "      <td>5</td>\n",
       "      <td>DEFICIÊNCIA AUDITIVA</td>\n",
       "    </tr>\n",
       "    <tr>\n",
       "      <th>296794</th>\n",
       "      <td>01/08/2020</td>\n",
       "      <td>13:21:54</td>\n",
       "      <td>2020</td>\n",
       "      <td>414248807</td>\n",
       "      <td>SP</td>\n",
       "      <td>70998</td>\n",
       "      <td>SÃO JOSÉ DOS CAMPOS</td>\n",
       "      <td>0</td>\n",
       "      <td>Sem biometria</td>\n",
       "      <td>127</td>\n",
       "      <td>117</td>\n",
       "      <td>4</td>\n",
       "      <td>FEMININO</td>\n",
       "      <td>1</td>\n",
       "      <td>SOLTEIRO</td>\n",
       "      <td>6064</td>\n",
       "      <td>60 a 64 anos</td>\n",
       "      <td>6</td>\n",
       "      <td>ENSINO MÉDIO COMPLETO</td>\n",
       "      <td>S</td>\n",
       "      <td>2</td>\n",
       "      <td>DEFICIÊNCIA DE LOCOMOÇÃO</td>\n",
       "    </tr>\n",
       "    <tr>\n",
       "      <th>33933</th>\n",
       "      <td>01/08/2020</td>\n",
       "      <td>13:21:54</td>\n",
       "      <td>2020</td>\n",
       "      <td>355617588</td>\n",
       "      <td>SP</td>\n",
       "      <td>70998</td>\n",
       "      <td>SÃO JOSÉ DOS CAMPOS</td>\n",
       "      <td>0</td>\n",
       "      <td>Sem biometria</td>\n",
       "      <td>282</td>\n",
       "      <td>186</td>\n",
       "      <td>4</td>\n",
       "      <td>FEMININO</td>\n",
       "      <td>3</td>\n",
       "      <td>CASADO</td>\n",
       "      <td>6569</td>\n",
       "      <td>65 a 69 anos</td>\n",
       "      <td>3</td>\n",
       "      <td>ENSINO FUNDAMENTAL INCOMPLETO</td>\n",
       "      <td>S</td>\n",
       "      <td>3</td>\n",
       "      <td>OUTROS</td>\n",
       "    </tr>\n",
       "    <tr>\n",
       "      <th>95897</th>\n",
       "      <td>01/08/2020</td>\n",
       "      <td>13:21:54</td>\n",
       "      <td>2020</td>\n",
       "      <td>408643736</td>\n",
       "      <td>SP</td>\n",
       "      <td>70998</td>\n",
       "      <td>SÃO JOSÉ DOS CAMPOS</td>\n",
       "      <td>0</td>\n",
       "      <td>Sem biometria</td>\n",
       "      <td>412</td>\n",
       "      <td>195</td>\n",
       "      <td>2</td>\n",
       "      <td>MASCULINO</td>\n",
       "      <td>3</td>\n",
       "      <td>CASADO</td>\n",
       "      <td>6569</td>\n",
       "      <td>65 a 69 anos</td>\n",
       "      <td>3</td>\n",
       "      <td>ENSINO FUNDAMENTAL INCOMPLETO</td>\n",
       "      <td>S</td>\n",
       "      <td>2</td>\n",
       "      <td>DEFICIÊNCIA DE LOCOMOÇÃO</td>\n",
       "    </tr>\n",
       "    <tr>\n",
       "      <th>95130</th>\n",
       "      <td>01/08/2020</td>\n",
       "      <td>13:21:54</td>\n",
       "      <td>2020</td>\n",
       "      <td>338381885</td>\n",
       "      <td>SP</td>\n",
       "      <td>70998</td>\n",
       "      <td>SÃO JOSÉ DOS CAMPOS</td>\n",
       "      <td>0</td>\n",
       "      <td>Sem biometria</td>\n",
       "      <td>282</td>\n",
       "      <td>58</td>\n",
       "      <td>2</td>\n",
       "      <td>MASCULINO</td>\n",
       "      <td>3</td>\n",
       "      <td>CASADO</td>\n",
       "      <td>6569</td>\n",
       "      <td>65 a 69 anos</td>\n",
       "      <td>3</td>\n",
       "      <td>ENSINO FUNDAMENTAL INCOMPLETO</td>\n",
       "      <td>S</td>\n",
       "      <td>3</td>\n",
       "      <td>OUTROS</td>\n",
       "    </tr>\n",
       "    <tr>\n",
       "      <th>221784</th>\n",
       "      <td>01/08/2020</td>\n",
       "      <td>13:21:54</td>\n",
       "      <td>2020</td>\n",
       "      <td>332098670</td>\n",
       "      <td>SP</td>\n",
       "      <td>70998</td>\n",
       "      <td>SÃO JOSÉ DOS CAMPOS</td>\n",
       "      <td>0</td>\n",
       "      <td>Sem biometria</td>\n",
       "      <td>282</td>\n",
       "      <td>179</td>\n",
       "      <td>2</td>\n",
       "      <td>MASCULINO</td>\n",
       "      <td>1</td>\n",
       "      <td>SOLTEIRO</td>\n",
       "      <td>2124</td>\n",
       "      <td>21 a 24 anos</td>\n",
       "      <td>1</td>\n",
       "      <td>ANALFABETO</td>\n",
       "      <td>S</td>\n",
       "      <td>3</td>\n",
       "      <td>OUTROS</td>\n",
       "    </tr>\n",
       "    <tr>\n",
       "      <th>125764</th>\n",
       "      <td>01/08/2020</td>\n",
       "      <td>13:21:54</td>\n",
       "      <td>2020</td>\n",
       "      <td>144386850</td>\n",
       "      <td>SP</td>\n",
       "      <td>70998</td>\n",
       "      <td>SÃO JOSÉ DOS CAMPOS</td>\n",
       "      <td>0</td>\n",
       "      <td>Sem biometria</td>\n",
       "      <td>412</td>\n",
       "      <td>94</td>\n",
       "      <td>4</td>\n",
       "      <td>FEMININO</td>\n",
       "      <td>5</td>\n",
       "      <td>VIÚVO</td>\n",
       "      <td>9094</td>\n",
       "      <td>90 a 94 anos</td>\n",
       "      <td>2</td>\n",
       "      <td>LÊ E ESCREVE</td>\n",
       "      <td>N</td>\n",
       "      <td>2</td>\n",
       "      <td>DEFICIÊNCIA DE LOCOMOÇÃO</td>\n",
       "    </tr>\n",
       "  </tbody>\n",
       "</table>\n",
       "</div>"
      ],
      "text/plain": [
       "        DT_GERACAO HH_GERACAO  ANO_ELEICAO  SQ_ELEITOR SG_UF  CD_MUNICIPIO  \\\n",
       "322015  01/08/2020   13:21:54         2020   367215429    SP         70998   \n",
       "384786  01/08/2020   13:21:54         2020   355074586    SP         70998   \n",
       "60216   01/08/2020   13:21:54         2020    10717654    SP         70998   \n",
       "439764  01/08/2020   13:21:54         2020   315864481    SP         70998   \n",
       "296794  01/08/2020   13:21:54         2020   414248807    SP         70998   \n",
       "33933   01/08/2020   13:21:54         2020   355617588    SP         70998   \n",
       "95897   01/08/2020   13:21:54         2020   408643736    SP         70998   \n",
       "95130   01/08/2020   13:21:54         2020   338381885    SP         70998   \n",
       "221784  01/08/2020   13:21:54         2020   332098670    SP         70998   \n",
       "125764  01/08/2020   13:21:54         2020   144386850    SP         70998   \n",
       "\n",
       "               NM_MUNICIPIO  CD_MUN_SIT_BIOMETRIA DS_MUN_SIT_BIOMETRIA  \\\n",
       "322015  SÃO JOSÉ DOS CAMPOS                     0        Sem biometria   \n",
       "384786  SÃO JOSÉ DOS CAMPOS                     0        Sem biometria   \n",
       "60216   SÃO JOSÉ DOS CAMPOS                     0        Sem biometria   \n",
       "439764  SÃO JOSÉ DOS CAMPOS                     0        Sem biometria   \n",
       "296794  SÃO JOSÉ DOS CAMPOS                     0        Sem biometria   \n",
       "33933   SÃO JOSÉ DOS CAMPOS                     0        Sem biometria   \n",
       "95897   SÃO JOSÉ DOS CAMPOS                     0        Sem biometria   \n",
       "95130   SÃO JOSÉ DOS CAMPOS                     0        Sem biometria   \n",
       "221784  SÃO JOSÉ DOS CAMPOS                     0        Sem biometria   \n",
       "125764  SÃO JOSÉ DOS CAMPOS                     0        Sem biometria   \n",
       "\n",
       "        NR_ZONA  NR_SECAO  CD_GENERO  DS_GENERO  CD_ESTADO_CIVIL  \\\n",
       "322015      411       197          2  MASCULINO                1   \n",
       "384786      127       590          4   FEMININO                1   \n",
       "60216       127       541          4   FEMININO                3   \n",
       "439764      282       185          2  MASCULINO                1   \n",
       "296794      127       117          4   FEMININO                1   \n",
       "33933       282       186          4   FEMININO                3   \n",
       "95897       412       195          2  MASCULINO                3   \n",
       "95130       282        58          2  MASCULINO                3   \n",
       "221784      282       179          2  MASCULINO                1   \n",
       "125764      412        94          4   FEMININO                5   \n",
       "\n",
       "       DS_ESTADO_CIVIL  CD_FAIXA_ETARIA                 DS_FAIXA_ETARIA  \\\n",
       "322015        SOLTEIRO             2000  20 anos                          \n",
       "384786        SOLTEIRO             2000  20 anos                          \n",
       "60216           CASADO             8084  80 a 84 anos                     \n",
       "439764        SOLTEIRO             6569  65 a 69 anos                     \n",
       "296794        SOLTEIRO             6064  60 a 64 anos                     \n",
       "33933           CASADO             6569  65 a 69 anos                     \n",
       "95897           CASADO             6569  65 a 69 anos                     \n",
       "95130           CASADO             6569  65 a 69 anos                     \n",
       "221784        SOLTEIRO             2124  21 a 24 anos                     \n",
       "125764           VIÚVO             9094  90 a 94 anos                     \n",
       "\n",
       "        CD_GRAU_ESCOLARIDADE           DS_GRAU_ESCOLARIDADE  \\\n",
       "322015                     6          ENSINO MÉDIO COMPLETO   \n",
       "384786                     5        ENSINO MÉDIO INCOMPLETO   \n",
       "60216                      1                     ANALFABETO   \n",
       "439764                     3  ENSINO FUNDAMENTAL INCOMPLETO   \n",
       "296794                     6          ENSINO MÉDIO COMPLETO   \n",
       "33933                      3  ENSINO FUNDAMENTAL INCOMPLETO   \n",
       "95897                      3  ENSINO FUNDAMENTAL INCOMPLETO   \n",
       "95130                      3  ENSINO FUNDAMENTAL INCOMPLETO   \n",
       "221784                     1                     ANALFABETO   \n",
       "125764                     2                   LÊ E ESCREVE   \n",
       "\n",
       "       ST_ELEITOR_BIOMETRIA  CD_TIPO_DEFICIENCIA       DS_TIPO_DEFICIENCIA  \n",
       "322015                    S                    2  DEFICIÊNCIA DE LOCOMOÇÃO  \n",
       "384786                    S                    3                    OUTROS  \n",
       "60216                     N                    2  DEFICIÊNCIA DE LOCOMOÇÃO  \n",
       "439764                    S                    5      DEFICIÊNCIA AUDITIVA  \n",
       "296794                    S                    2  DEFICIÊNCIA DE LOCOMOÇÃO  \n",
       "33933                     S                    3                    OUTROS  \n",
       "95897                     S                    2  DEFICIÊNCIA DE LOCOMOÇÃO  \n",
       "95130                     S                    3                    OUTROS  \n",
       "221784                    S                    3                    OUTROS  \n",
       "125764                    N                    2  DEFICIÊNCIA DE LOCOMOÇÃO  "
      ]
     },
     "execution_count": 6,
     "metadata": {},
     "output_type": "execute_result"
    }
   ],
   "source": [
    "dft_sjc.sample(10)"
   ]
  },
  {
   "cell_type": "code",
   "execution_count": 7,
   "metadata": {},
   "outputs": [],
   "source": [
    "dft_sjc = df.query('NM_MUNICIPIO ==\"SÃO JOSÉ DOS CAMPOS\"')[['NR_ZONA', 'DS_TIPO_DEFICIENCIA']]"
   ]
  },
  {
   "cell_type": "code",
   "execution_count": 8,
   "metadata": {},
   "outputs": [
    {
     "data": {
      "text/plain": [
       "<AxesSubplot:title={'center':'Zonas eleitorais de São José dos Campos'}, ylabel='NR_ZONA'>"
      ]
     },
     "execution_count": 8,
     "metadata": {},
     "output_type": "execute_result"
    },
    {
     "data": {
      "image/png": "[encoded data removed]",
      "text/plain": [
       "<Figure size 432x288 with 1 Axes>"
      ]
     },
     "metadata": {
      "needs_background": "light"
     },
     "output_type": "display_data"
    }
   ],
   "source": [
    "#Apresentação das zonas eleitorais do municipio de São José dos Campos\n",
    "dft_sjc.groupby(\"NR_ZONA\").size().sort_values().tail(4).plot(kind='barh', title='Zonas eleitorais de São José dos Campos')"
   ]
  },
  {
   "cell_type": "code",
   "execution_count": 9,
   "metadata": {},
   "outputs": [
    {
     "data": {
      "image/png": "[encoded data removed]",
      "text/plain": [
       "<Figure size 432x288 with 1 Axes>"
      ]
     },
     "metadata": {
      "needs_background": "light"
     },
     "output_type": "display_data"
    }
   ],
   "source": [
    "dft_t_sjc = dft_sjc.groupby(\"DS_TIPO_DEFICIENCIA\").size().sort_values().plot(kind='barh', title='Tipos de deficiência mais apresentadas nas zonas eleitorais de SJC')"
   ]
  },
  {
   "cell_type": "code",
   "execution_count": 10,
   "metadata": {},
   "outputs": [
    {
     "data": {
      "text/plain": [
       "<AxesSubplot:title={'center':'Tipos de deficiência mais apresentados na zona eleitoral 412'}>"
      ]
     },
     "execution_count": 10,
     "metadata": {},
     "output_type": "execute_result"
    },
    {
     "data": {
      "image/png": "[encoded data removed]",
      "text/plain": [
       "<Figure size 432x288 with 1 Axes>"
      ]
     },
     "metadata": {
      "needs_background": "light"
     },
     "output_type": "display_data"
    }
   ],
   "source": [
    "dft_sjc.query(\"NR_ZONA == '412'\")['DS_TIPO_DEFICIENCIA'].value_counts().sort_values().plot(kind='barh', title=\"Tipos de deficiência mais apresentados na zona eleitoral 412\")"
   ]
  },
  {
   "cell_type": "code",
   "execution_count": 12,
   "metadata": {},
   "outputs": [
    {
     "data": {
      "text/plain": [
       "<AxesSubplot:title={'center':'Tipos de deficiência mais apresentados na zona eleitoral 411'}>"
      ]
     },
     "execution_count": 12,
     "metadata": {},
     "output_type": "execute_result"
    },
    {
     "data": {
      "image/png": "[encoded data removed]",
      "text/plain": [
       "<Figure size 432x288 with 1 Axes>"
      ]
     },
     "metadata": {
      "needs_background": "light"
     },
     "output_type": "display_data"
    }
   ],
   "source": [
    "dft_sjc.query(\"NR_ZONA == '411'\")['DS_TIPO_DEFICIENCIA'].value_counts().sort_values().plot(kind='barh', title=\"Tipos de deficiência mais apresentados na zona eleitoral 411\")"
   ]
  },
  {
   "cell_type": "code",
   "execution_count": 13,
   "metadata": {},
   "outputs": [
    {
     "data": {
      "text/plain": [
       "<AxesSubplot:title={'center':'Tipos de deficiência mais apresentados na zona 127'}>"
      ]
     },
     "execution_count": 13,
     "metadata": {},
     "output_type": "execute_result"
    },
    {
     "data": {
      "image/png": "[encoded data removed]",
      "text/plain": [
       "<Figure size 432x288 with 1 Axes>"
      ]
     },
     "metadata": {
      "needs_background": "light"
     },
     "output_type": "display_data"
    }
   ],
   "source": [
    "dft_sjc.query(\"NR_ZONA == '127'\")['DS_TIPO_DEFICIENCIA'].value_counts().sort_values().plot(kind='barh', title=\"Tipos de deficiência mais apresentados na zona 127\")"
   ]
  },
  {
   "cell_type": "code",
   "execution_count": 14,
   "metadata": {},
   "outputs": [
    {
     "data": {
      "text/plain": [
       "<AxesSubplot:title={'center':'Tipos de deficiência mais apresentados na zona eleitoral 282'}>"
      ]
     },
     "execution_count": 14,
     "metadata": {},
     "output_type": "execute_result"
    },
    {
     "data": {
      "image/png": "[encoded data removed]",
      "text/plain": [
       "<Figure size 432x288 with 1 Axes>"
      ]
     },
     "metadata": {
      "needs_background": "light"
     },
     "output_type": "display_data"
    }
   ],
   "source": [
    "dft_sjc.query(\"NR_ZONA == '282'\")['DS_TIPO_DEFICIENCIA'].value_counts().sort_values().plot(kind='barh', title=\"Tipos de deficiência mais apresentados na zona eleitoral 282\")"
   ]
  },
  {
   "cell_type": "code",
   "execution_count": 15,
   "metadata": {},
   "outputs": [
    {
     "data": {
      "image/png": "[encoded data removed]",
      "text/plain": [
       "<Figure size 432x288 with 1 Axes>"
      ]
     },
     "metadata": {
      "needs_background": "light"
     },
     "output_type": "display_data"
    }
   ],
   "source": [
    "dft_t_sjc = dft_sjc.query(\"DS_TIPO_DEFICIENCIA =='DEFICIÊNCIA DE LOCOMOÇÃO'\")['NR_ZONA'].value_counts().sort_values().plot(kind='barh', title=\"Número de deficientes por locomoção nas zonas eleitorais de SJC-SP\")"
   ]
  },
  {
   "cell_type": "code",
   "execution_count": 16,
   "metadata": {},
   "outputs": [
    {
     "data": {
      "text/plain": [
       "<AxesSubplot:title={'center':'Número de deficientes visuais nas zonas eleitorais de SJC-SP'}>"
      ]
     },
     "execution_count": 16,
     "metadata": {},
     "output_type": "execute_result"
    },
    {
     "data": {
      "image/png": "[encoded data removed]",
      "text/plain": [
       "<Figure size 432x288 with 1 Axes>"
      ]
     },
     "metadata": {
      "needs_background": "light"
     },
     "output_type": "display_data"
    }
   ],
   "source": [
    "dft_sjc.query(\"DS_TIPO_DEFICIENCIA =='DEFICIÊNCIA VISUAL'\")['NR_ZONA'].value_counts().sort_values().plot(kind='barh', title=\"Número de deficientes visuais nas zonas eleitorais de SJC-SP\")"
   ]
  },
  {
   "cell_type": "code",
   "execution_count": 17,
   "metadata": {},
   "outputs": [
    {
     "data": {
      "text/plain": [
       "<AxesSubplot:title={'center':'Número de deficientes auditivos nas zonas eleitorais de SJC-SP'}>"
      ]
     },
     "execution_count": 17,
     "metadata": {},
     "output_type": "execute_result"
    },
    {
     "data": {
      "image/png": "[encoded data removed]",
      "text/plain": [
       "<Figure size 432x288 with 1 Axes>"
      ]
     },
     "metadata": {
      "needs_background": "light"
     },
     "output_type": "display_data"
    }
   ],
   "source": [
    "dft_sjc.query(\"DS_TIPO_DEFICIENCIA =='DEFICIÊNCIA AUDITIVA'\")['NR_ZONA'].value_counts().sort_values().plot(kind='barh', title=\"Número de deficientes auditivos nas zonas eleitorais de SJC-SP\")"
   ]
  },
  {
   "cell_type": "code",
   "execution_count": null,
   "metadata": {},
   "outputs": [],
   "source": []
  }
 ],
 "metadata": {
  "kernelspec": {
   "display_name": "Python 3",
   "language": "python",
   "name": "python3"
  },
  "language_info": {
   "codemirror_mode": {
    "name": "ipython",
    "version": 3
   },
   "file_extension": ".py",
   "mimetype": "text/x-python",
   "name": "python",
   "nbconvert_exporter": "python",
   "pygments_lexer": "ipython3",
   "version": "3.7.9"
  }
 },
 "nbformat": 4,
 "nbformat_minor": 4
}
